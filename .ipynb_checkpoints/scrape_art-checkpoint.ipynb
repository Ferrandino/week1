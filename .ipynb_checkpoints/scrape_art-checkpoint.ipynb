{
 "cells": [
  {
   "cell_type": "code",
   "execution_count": 1,
   "metadata": {},
   "outputs": [],
   "source": [
    "#install packages \n",
    "from bs4 import BeautifulSoup\n",
    "import requests\n",
    "import pandas as pd\n",
    "import re\n",
    "import urllib\n",
    "import urllib.request\n",
    "import os"
   ]
  },
  {
   "cell_type": "code",
   "execution_count": 2,
   "metadata": {},
   "outputs": [],
   "source": [
    "#set URL\n",
    "URL = 'https://www.minted.com/art?of=no&limit=14400'\n",
    "A = {}\n",
    "A_no = 0"
   ]
  },
  {
   "cell_type": "code",
   "execution_count": null,
   "metadata": {},
   "outputs": [],
   "source": [
    "#point to where you want to be on the website\n",
    "response = requests.get(URL)\n",
    "data = response.text\n",
    "soup = BeautifulSoup(data,'html.parser')\n",
    "items = soup.find(\"ul\",{'id':'productGrid'})"
   ]
  },
  {
   "cell_type": "code",
   "execution_count": null,
   "metadata": {},
   "outputs": [],
   "source": [
    "#get all the links to images and the images \n",
    "for item in items.find_all(\"li\",{'class':'item itemArtMarketplace'}):\n",
    "    link = item.find('a', {'class' : 'productDetailsLink'})\n",
    "    #print(link['href'])\n",
    "    image = item.find('img',{'class':'productPhoto'})\n",
    "    jpg_link = image['data-src']\n",
    "    \n",
    "    resource = urllib.request.urlopen(jpg_link)\n",
    "    output = open(str(A_no)+\"art.jpg\",\"wb\")\n",
    "    output.write(resource.read())\n",
    "    output.close()\n",
    "\n",
    "    \n",
    "\n",
    "    #urllib.request.urlretrieve(\"jpg_link\", A_no_+\"test.jpg\")\n",
    "    #print(image['data-src'])\n",
    "    #size = item.find('p',{'class':'productSizes bm'})\n",
    "    #print(size)\n",
    "    \n",
    "    A_no+=1\n",
    "    A[A_no] = ['https://www.minted.com/'+link['href'],image['data-src']]\n",
    "        \n",
    "    print('link:','https://www.minted.com/'+link['href'], '\\nimage:', image['data-src'],'\\nimage:',output)\n",
    "   \n",
    "    "
   ]
  },
  {
   "cell_type": "code",
   "execution_count": null,
   "metadata": {},
   "outputs": [],
   "source": [
    "#see total number of images scraped \n",
    "print('Total:',A_no)"
   ]
  },
  {
   "cell_type": "code",
   "execution_count": null,
   "metadata": {},
   "outputs": [],
   "source": [
    "#get jpg names\n",
    "import glob\n",
    "for filename in glob.iglob('*.jpg', recursive=True):\n",
    "    base=os.path.basename(filename)\n",
    "    print(base)"
   ]
  },
  {
   "cell_type": "code",
   "execution_count": null,
   "metadata": {},
   "outputs": [],
   "source": [
    "#make a database\n",
    "#todo: include actual jped names in df\n",
    "#right now I export to a csv and put them in \n",
    "A_df = pd.DataFrame.from_dict(A, orient = 'index', columns = ['link','image'])\n",
    "\n",
    "A_df"
   ]
  },
  {
   "cell_type": "code",
   "execution_count": null,
   "metadata": {},
   "outputs": [],
   "source": [
    "#export csv and read it back in \n",
    "import pandas as pd\n",
    "\n",
    "df.to_csv('art.csv')\n",
    "df = pd.read_csv ('art.csv')\n",
    "print (df)"
   ]
  }
 ],
 "metadata": {
  "kernelspec": {
   "display_name": "Python 3",
   "language": "python",
   "name": "python3"
  },
  "language_info": {
   "codemirror_mode": {
    "name": "ipython",
    "version": 3
   },
   "file_extension": ".py",
   "mimetype": "text/x-python",
   "name": "python",
   "nbconvert_exporter": "python",
   "pygments_lexer": "ipython3",
   "version": "3.7.4"
  }
 },
 "nbformat": 4,
 "nbformat_minor": 2
}
